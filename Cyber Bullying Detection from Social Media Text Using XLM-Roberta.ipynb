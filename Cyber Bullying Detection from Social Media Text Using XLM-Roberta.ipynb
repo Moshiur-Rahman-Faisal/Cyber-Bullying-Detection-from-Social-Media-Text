{
 "cells": [
  {
   "cell_type": "code",
   "execution_count": 1,
   "id": "d32533c5",
   "metadata": {},
   "outputs": [],
   "source": [
    "import pandas as pd\n",
    "import numpy as np\n",
    "import matplotlib.pyplot as plt"
   ]
  },
  {
   "cell_type": "code",
   "execution_count": 2,
   "id": "bba016ba",
   "metadata": {
    "scrolled": true
   },
   "outputs": [],
   "source": [
    "df = pd.read_excel('CyberBulling_Dataset_Bangla.xlsx')\n"
   ]
  },
  {
   "cell_type": "code",
   "execution_count": 3,
   "id": "3c2ae414",
   "metadata": {
    "scrolled": true
   },
   "outputs": [
    {
     "data": {
      "text/html": [
       "<div>\n",
       "<style scoped>\n",
       "    .dataframe tbody tr th:only-of-type {\n",
       "        vertical-align: middle;\n",
       "    }\n",
       "\n",
       "    .dataframe tbody tr th {\n",
       "        vertical-align: top;\n",
       "    }\n",
       "\n",
       "    .dataframe thead th {\n",
       "        text-align: right;\n",
       "    }\n",
       "</style>\n",
       "<table border=\"1\" class=\"dataframe\">\n",
       "  <thead>\n",
       "    <tr style=\"text-align: right;\">\n",
       "      <th></th>\n",
       "      <th>Unnamed: 0</th>\n",
       "      <th>Description</th>\n",
       "      <th>Label</th>\n",
       "    </tr>\n",
       "  </thead>\n",
       "  <tbody>\n",
       "    <tr>\n",
       "      <th>0</th>\n",
       "      <td>0</td>\n",
       "      <td>ওই হালার পুত এখন কি মদ খাওয়ার সময় রাতের বেলা...</td>\n",
       "      <td>sexual</td>\n",
       "    </tr>\n",
       "    <tr>\n",
       "      <th>1</th>\n",
       "      <td>1</td>\n",
       "      <td>আপনার জন্ম প্রক্রিয়ার সময় আপনার মায়ের ভিতর কি ...</td>\n",
       "      <td>sexual</td>\n",
       "    </tr>\n",
       "    <tr>\n",
       "      <th>2</th>\n",
       "      <td>2</td>\n",
       "      <td>ধজভংগ দের আর ভায়াগ্রা লাগবো না। ধংস হোক এই সব ...</td>\n",
       "      <td>sexual</td>\n",
       "    </tr>\n",
       "    <tr>\n",
       "      <th>3</th>\n",
       "      <td>3</td>\n",
       "      <td>বোকাচোদা একটা।</td>\n",
       "      <td>sexual</td>\n",
       "    </tr>\n",
       "    <tr>\n",
       "      <th>4</th>\n",
       "      <td>4</td>\n",
       "      <td>তোর দেশে ফেরার অপেক্ষায় রইলাম। জেলে একটা কামরা...</td>\n",
       "      <td>sexual</td>\n",
       "    </tr>\n",
       "  </tbody>\n",
       "</table>\n",
       "</div>"
      ],
      "text/plain": [
       "   Unnamed: 0                                        Description   Label\n",
       "0           0  ওই হালার পুত এখন কি মদ খাওয়ার সময় রাতের বেলা...  sexual\n",
       "1           1  আপনার জন্ম প্রক্রিয়ার সময় আপনার মায়ের ভিতর কি ...  sexual\n",
       "2           2  ধজভংগ দের আর ভায়াগ্রা লাগবো না। ধংস হোক এই সব ...  sexual\n",
       "3           3                                     বোকাচোদা একটা।  sexual\n",
       "4           4  তোর দেশে ফেরার অপেক্ষায় রইলাম। জেলে একটা কামরা...  sexual"
      ]
     },
     "execution_count": 3,
     "metadata": {},
     "output_type": "execute_result"
    }
   ],
   "source": [
    "df.head()"
   ]
  },
  {
   "cell_type": "code",
   "execution_count": 4,
   "id": "83d9ff3e",
   "metadata": {},
   "outputs": [
    {
     "data": {
      "text/html": [
       "<div>\n",
       "<style scoped>\n",
       "    .dataframe tbody tr th:only-of-type {\n",
       "        vertical-align: middle;\n",
       "    }\n",
       "\n",
       "    .dataframe tbody tr th {\n",
       "        vertical-align: top;\n",
       "    }\n",
       "\n",
       "    .dataframe thead th {\n",
       "        text-align: right;\n",
       "    }\n",
       "</style>\n",
       "<table border=\"1\" class=\"dataframe\">\n",
       "  <thead>\n",
       "    <tr style=\"text-align: right;\">\n",
       "      <th></th>\n",
       "      <th>Unnamed: 0</th>\n",
       "      <th>Description</th>\n",
       "      <th>Label</th>\n",
       "    </tr>\n",
       "  </thead>\n",
       "  <tbody>\n",
       "    <tr>\n",
       "      <th>6005</th>\n",
       "      <td>6005</td>\n",
       "      <td>কপাল পোড়া</td>\n",
       "      <td>Neutral</td>\n",
       "    </tr>\n",
       "    <tr>\n",
       "      <th>6006</th>\n",
       "      <td>6006</td>\n",
       "      <td>আল্লাহ আপনাকে হেদায়েত দান করুক আমীন।আমিও একজন ...</td>\n",
       "      <td>Neutral</td>\n",
       "    </tr>\n",
       "    <tr>\n",
       "      <th>6007</th>\n",
       "      <td>6007</td>\n",
       "      <td>শুধু সুন্দর চেহারার হিরো আপনি নন, সুন্দর মনের ...</td>\n",
       "      <td>Neutral</td>\n",
       "    </tr>\n",
       "    <tr>\n",
       "      <th>6008</th>\n",
       "      <td>6008</td>\n",
       "      <td>আল্লাহ আপনাকে সুস্থ রাখুক। ভাইরাস থেকে দেশের ম...</td>\n",
       "      <td>Neutral</td>\n",
       "    </tr>\n",
       "    <tr>\n",
       "      <th>6009</th>\n",
       "      <td>6009</td>\n",
       "      <td>আল্লাহ আপনার উপর রহমত বর্ষণ করুন, আমিন।</td>\n",
       "      <td>Neutral</td>\n",
       "    </tr>\n",
       "  </tbody>\n",
       "</table>\n",
       "</div>"
      ],
      "text/plain": [
       "      Unnamed: 0                                        Description    Label\n",
       "6005        6005                                          কপাল পোড়া  Neutral\n",
       "6006        6006  আল্লাহ আপনাকে হেদায়েত দান করুক আমীন।আমিও একজন ...  Neutral\n",
       "6007        6007  শুধু সুন্দর চেহারার হিরো আপনি নন, সুন্দর মনের ...  Neutral\n",
       "6008        6008  আল্লাহ আপনাকে সুস্থ রাখুক। ভাইরাস থেকে দেশের ম...  Neutral\n",
       "6009        6009            আল্লাহ আপনার উপর রহমত বর্ষণ করুন, আমিন।  Neutral"
      ]
     },
     "execution_count": 4,
     "metadata": {},
     "output_type": "execute_result"
    }
   ],
   "source": [
    "df.tail()"
   ]
  },
  {
   "cell_type": "code",
   "execution_count": 5,
   "id": "4d94877e",
   "metadata": {},
   "outputs": [],
   "source": [
    "df.dropna(inplace=True)"
   ]
  },
  {
   "cell_type": "code",
   "execution_count": 6,
   "id": "7bcb0ed6",
   "metadata": {},
   "outputs": [
    {
     "data": {
      "text/plain": [
       "Political    1205\n",
       "troll        1202\n",
       "sexual       1201\n",
       "Threat       1201\n",
       "Neutral      1201\n",
       "Name: Label, dtype: int64"
      ]
     },
     "execution_count": 6,
     "metadata": {},
     "output_type": "execute_result"
    }
   ],
   "source": [
    "df[\"Label\"].value_counts()"
   ]
  },
  {
   "cell_type": "code",
   "execution_count": 7,
   "id": "d2f6327e",
   "metadata": {},
   "outputs": [],
   "source": [
    "text = df['Description'].values.tolist()\n",
    "label = df['Label'].tolist()"
   ]
  },
  {
   "cell_type": "code",
   "execution_count": 8,
   "id": "06974fef",
   "metadata": {},
   "outputs": [],
   "source": [
    "from sklearn.model_selection import train_test_split\n",
    "X_train, X_test, y_train, y_test = train_test_split(text , label, test_size=0.2, random_state=42)"
   ]
  },
  {
   "cell_type": "code",
   "execution_count": 9,
   "id": "fe9e61fb",
   "metadata": {},
   "outputs": [],
   "source": [
    "import ktrain\n",
    "from ktrain import text\n",
    "MODEL_NAME = 'xlm-roberta-base'\n",
    "t = text.Transformer(MODEL_NAME, maxlen=500)\n"
   ]
  },
  {
   "cell_type": "code",
   "execution_count": 10,
   "id": "c269013f",
   "metadata": {},
   "outputs": [
    {
     "name": "stdout",
     "output_type": "stream",
     "text": [
      "preprocessing train...\n",
      "language: bn\n",
      "train sequence lengths:\n",
      "\tmean : 17\n",
      "\t95percentile : 57\n",
      "\t99percentile : 131\n"
     ]
    },
    {
     "data": {
      "text/html": [],
      "text/plain": [
       "<IPython.core.display.HTML object>"
      ]
     },
     "metadata": {},
     "output_type": "display_data"
    },
    {
     "name": "stdout",
     "output_type": "stream",
     "text": [
      "Is Multi-Label? False\n",
      "preprocessing test...\n",
      "language: bn\n",
      "test sequence lengths:\n",
      "\tmean : 18\n",
      "\t95percentile : 60\n",
      "\t99percentile : 142\n"
     ]
    },
    {
     "data": {
      "text/html": [],
      "text/plain": [
       "<IPython.core.display.HTML object>"
      ]
     },
     "metadata": {},
     "output_type": "display_data"
    }
   ],
   "source": [
    "trn = t.preprocess_train(X_train, y_train)\n",
    "val = t.preprocess_test(X_test, y_test)"
   ]
  },
  {
   "cell_type": "code",
   "execution_count": 11,
   "id": "69d54231",
   "metadata": {
    "scrolled": true
   },
   "outputs": [],
   "source": [
    "model = t.get_classifier()"
   ]
  },
  {
   "cell_type": "code",
   "execution_count": 12,
   "id": "7070ffb4",
   "metadata": {},
   "outputs": [],
   "source": [
    "learner = ktrain.get_learner(model, train_data=trn, val_data=val, batch_size=6)"
   ]
  },
  {
   "cell_type": "code",
   "execution_count": 13,
   "id": "cc1a9fba",
   "metadata": {},
   "outputs": [
    {
     "name": "stdout",
     "output_type": "stream",
     "text": [
      "simulating training for different learning rates... this may take a few moments...\n",
      "801/801 [==============================] - 7482s 9s/step - loss: 10.3616 - accuracy: 0.2038\n",
      "\n",
      "\n",
      "done.\n",
      "Visually inspect loss plot and select learning rate associated with falling loss\n"
     ]
    },
    {
     "data": {
      "image/png": "[encoded data removed]",
      "text/plain": [
       "<Figure size 432x288 with 1 Axes>"
      ]
     },
     "metadata": {
      "needs_background": "light"
     },
     "output_type": "display_data"
    }
   ],
   "source": [
    "learner.lr_find(show_plot=True, max_epochs=1)"
   ]
  },
  {
   "cell_type": "code",
   "execution_count": 14,
   "id": "e1e76e69",
   "metadata": {
    "scrolled": false
   },
   "outputs": [
    {
     "name": "stdout",
     "output_type": "stream",
     "text": [
      "\n",
      "\n",
      "begin training using onecycle policy with max lr of 2e-05...\n",
      "Epoch 1/10\n",
      "802/802 [==============================] - 9905s 12s/step - loss: 1.5086 - accuracy: 0.3340 - val_loss: 1.0878 - val_accuracy: 0.5824\n",
      "Epoch 2/10\n",
      "802/802 [==============================] - 9938s 12s/step - loss: 0.9809 - accuracy: 0.6265 - val_loss: 0.8497 - val_accuracy: 0.6789\n",
      "Epoch 3/10\n",
      "802/802 [==============================] - 9736s 12s/step - loss: 0.7577 - accuracy: 0.7194 - val_loss: 0.8137 - val_accuracy: 0.7113\n",
      "Epoch 4/10\n",
      "802/802 [==============================] - 9751s 12s/step - loss: 0.6587 - accuracy: 0.7639 - val_loss: 0.8017 - val_accuracy: 0.7321\n",
      "Epoch 5/10\n",
      "802/802 [==============================] - 9758s 12s/step - loss: 0.5852 - accuracy: 0.7941 - val_loss: 0.7208 - val_accuracy: 0.7354\n",
      "Epoch 6/10\n",
      "802/802 [==============================] - 9765s 12s/step - loss: 0.4693 - accuracy: 0.8421 - val_loss: 0.7535 - val_accuracy: 0.7554\n",
      "Epoch 7/10\n",
      "802/802 [==============================] - 9771s 12s/step - loss: 0.3511 - accuracy: 0.8825 - val_loss: 0.7982 - val_accuracy: 0.7679\n",
      "Epoch 8/10\n",
      "802/802 [==============================] - 9809s 12s/step - loss: 0.2508 - accuracy: 0.9191 - val_loss: 0.8569 - val_accuracy: 0.7654\n",
      "Epoch 9/10\n",
      "802/802 [==============================] - 9805s 12s/step - loss: 0.1563 - accuracy: 0.9515 - val_loss: 0.8847 - val_accuracy: 0.7779\n",
      "Epoch 10/10\n",
      "802/802 [==============================] - 10519s 13s/step - loss: 0.1050 - accuracy: 0.9690 - val_loss: 0.9378 - val_accuracy: 0.7779\n"
     ]
    }
   ],
   "source": [
    "history = learner.fit_onecycle(2e-5, 10)"
   ]
  },
  {
   "cell_type": "code",
   "execution_count": 15,
   "id": "49b40033",
   "metadata": {},
   "outputs": [
    {
     "name": "stdout",
     "output_type": "stream",
     "text": [
      "              precision    recall  f1-score   support\n",
      "\n",
      "     Neutral       0.73      0.74      0.73       239\n",
      "   Political       0.88      0.92      0.90       221\n",
      "      Threat       0.89      0.83      0.86       242\n",
      "      sexual       0.82      0.72      0.77       269\n",
      "       troll       0.60      0.70      0.65       231\n",
      "\n",
      "    accuracy                           0.78      1202\n",
      "   macro avg       0.78      0.78      0.78      1202\n",
      "weighted avg       0.79      0.78      0.78      1202\n",
      "\n"
     ]
    },
    {
     "data": {
      "text/plain": [
       "array([[176,   9,   9,   7,  38],\n",
       "       [  3, 204,   3,   4,   7],\n",
       "       [ 12,   3, 200,   8,  19],\n",
       "       [ 23,   7,   3, 193,  43],\n",
       "       [ 27,  10,  10,  22, 162]], dtype=int64)"
      ]
     },
     "execution_count": 15,
     "metadata": {},
     "output_type": "execute_result"
    }
   ],
   "source": [
    "learner.validate(class_names=t.get_classes()) "
   ]
  },
  {
   "cell_type": "code",
   "execution_count": 16,
   "id": "e343e2cc",
   "metadata": {},
   "outputs": [],
   "source": [
    "def PlotGraph(history):\n",
    "    acc = history.history['accuracy']\n",
    "    val_acc = history.history['val_accuracy']\n",
    "    loss = history.history['loss']\n",
    "    val_loss = history.history['val_loss']\n",
    "    x = range(1, len(acc) + 1)\n",
    "\n",
    "    plt.figure(figsize=(12, 5))\n",
    "    plt.subplot(1, 2, 1)\n",
    "    plt.plot(x, acc, 'g', label='Training acc')\n",
    "    plt.plot(x, val_acc, 'b', label='Validation acc')\n",
    "    plt.title('Training and validation accuracy')\n",
    "    plt.legend()\n",
    "    plt.subplot(1, 2, 2)\n",
    "    plt.plot(x, loss, 'g', label='Training loss')\n",
    "    plt.plot(x, val_loss, 'b', label='Validation loss')\n",
    "    plt.title('Training and validation loss')\n",
    "    plt.legend() "
   ]
  },
  {
   "cell_type": "code",
   "execution_count": 17,
   "id": "ea44118c",
   "metadata": {
    "scrolled": true
   },
   "outputs": [
    {
     "data": {
      "image/png": "[encoded data removed]",
      "text/plain": [
       "<Figure size 864x360 with 2 Axes>"
      ]
     },
     "metadata": {
      "needs_background": "light"
     },
     "output_type": "display_data"
    }
   ],
   "source": [
    "PlotGraph(history)"
   ]
  },
  {
   "cell_type": "code",
   "execution_count": 18,
   "id": "cf3fe619",
   "metadata": {},
   "outputs": [
    {
     "data": {
      "image/png": "[encoded data removed]",
      "text/plain": [
       "<Figure size 432x288 with 1 Axes>"
      ]
     },
     "metadata": {
      "needs_background": "light"
     },
     "output_type": "display_data"
    }
   ],
   "source": [
    "learner.plot('loss')"
   ]
  },
  {
   "cell_type": "code",
   "execution_count": null,
   "id": "3b3d1810",
   "metadata": {},
   "outputs": [],
   "source": []
  }
 ],
 "metadata": {
  "kernelspec": {
   "display_name": "Python 3 (ipykernel)",
   "language": "python",
   "name": "python3"
  },
  "language_info": {
   "codemirror_mode": {
    "name": "ipython",
    "version": 3
   },
   "file_extension": ".py",
   "mimetype": "text/x-python",
   "name": "python",
   "nbconvert_exporter": "python",
   "pygments_lexer": "ipython3",
   "version": "3.9.7"
  }
 },
 "nbformat": 4,
 "nbformat_minor": 5
}
